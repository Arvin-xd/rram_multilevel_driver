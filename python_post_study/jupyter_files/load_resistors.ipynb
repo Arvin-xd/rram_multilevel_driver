{
 "cells": [
  {
   "cell_type": "code",
   "execution_count": 1,
   "metadata": {
    "collapsed": true
   },
   "outputs": [],
   "source": [
    "# import plotly.plotly as py\n",
    "import plotly.offline\n",
    "from plotly.graph_objs import Scatter, Layout\n",
    "import numpy as np\n",
    "import pandas as pd"
   ]
  },
  {
   "cell_type": "code",
   "execution_count": 2,
   "metadata": {
    "collapsed": true
   },
   "outputs": [],
   "source": [
    "def find_nearest(array, value):\n",
    "    idx = (np.abs(array-value)).argmin()\n",
    "    return array[idx]\n",
    "\n",
    "\n",
    "def find_nearest_sorted(sorted_array, value):\n",
    "    idx = np.searchsorted(sorted_array, value, side=\"left\")\n",
    "    if (idx > 0 and (\n",
    "        idx == len(sorted_array)\n",
    "        or abs(value - sorted_array[idx-1]) < abs(value-sorted_array[idx]))):\n",
    "        return sorted_array[idx-1], idx-1\n",
    "    else:\n",
    "        return sorted_array[idx], idx"
   ]
  },
  {
   "cell_type": "code",
   "execution_count": 3,
   "metadata": {
    "collapsed": true
   },
   "outputs": [],
   "source": [
    "# target resistances\n",
    "initial_gaps = np.array( [1.3e-9, 1.367e-9, 1.5e-9, 1.6e-9, 1.7e-9])\n",
    "data_file = 'exported_data/1t1r_last.csv'\n",
    "n_gaps = initial_gaps.shape[0]\n",
    "simulated_levels = 256\n",
    "target_levels = 32\n",
    "r_load_min = 1e3\n",
    "r_loads = np.linspace(r_load_min, simulated_levels*r_load_min, simulated_levels)"
   ]
  },
  {
   "cell_type": "code",
   "execution_count": 4,
   "metadata": {
    "collapsed": true
   },
   "outputs": [],
   "source": [
    "# plotly.tools.set_credentials_file(username='fmu', api_key='NIDiVLcNRVtwNzBnfpLJ')\n",
    "plotly.tools.set_config_file(world_readable=False,\n",
    "                             sharing='private')\n",
    "# plotly.tools.set_config_file(world_readable=True,\n",
    "#                            sharing='public')"
   ]
  },
  {
   "cell_type": "code",
   "execution_count": 5,
   "metadata": {
    "collapsed": true
   },
   "outputs": [],
   "source": [
    "full_data = np.genfromtxt(data_file, delimiter=',')\n",
    "# data in X0 Y0, X1, Y1 format, grab all Y values\n",
    "last_r_read = np.array([full_data[full_data.shape[0]-1, 1::2]])\n",
    "r_length = int(last_r_read.shape[1]/n_gaps)\n",
    "last_r_read = last_r_read.reshape(n_gaps, r_length)\n",
    "\n"
   ]
  },
  {
   "cell_type": "code",
   "execution_count": 6,
   "metadata": {
    "collapsed": true
   },
   "outputs": [],
   "source": [
    "plot_2d = True\n",
    "if plot_2d:\n",
    "    data_read_r = []\n",
    "    for g_idx, g in enumerate(last_r_read):\n",
    "        data_read_r.append(\n",
    "            plotly.graph_objs.Scatter(\n",
    "                x=r_loads,\n",
    "                y=g,\n",
    "                mode='lines+markers',\n",
    "                name='read_r for initial gap ' + str(initial_gaps[g_idx])\n",
    "            )\n",
    "        )\n",
    "    layout_read_r = plotly.graph_objs.Layout(\n",
    "        title='Simulated Read Resistances vs Load Resistances',\n",
    "        xaxis=dict(\n",
    "            title='Load Resistance [ohm]',\n",
    "            titlefont=dict(\n",
    "                family='Courier New, monospace',\n",
    "                size=18,\n",
    "                color='#7f7f7f'\n",
    "            )\n",
    "        ),\n",
    "        yaxis=dict(\n",
    "            title='Read Resistance [ohm]',\n",
    "            titlefont=dict(\n",
    "                family='Courier New, monospace',\n",
    "                size=18,\n",
    "                color='#7f7f7f'\n",
    "            )\n",
    "        )\n",
    "    )\n",
    "    fig_read_r = plotly.graph_objs.Figure(data=data_read_r, layout=layout_read_r)\n",
    "    plotly.offline.plot(fig_read_r, filename = 'read_resistance.html')"
   ]
  },
  {
   "cell_type": "code",
   "execution_count": 7,
   "metadata": {
    "collapsed": true
   },
   "outputs": [],
   "source": [
    "# find the simulated resistance closer to de target value\n",
    "sim_read_r = np.zeros([n_gaps, target_levels])\n",
    "for g_idx, g in enumerate(last_r_read):\n",
    "    sim_read_r[g_idx] = np.linspace(np.min(g), np.max(g), target_levels)\n",
    "\n",
    "# required resistor loads\n",
    "required_loads = np.zeros(sim_read_r.shape)\n",
    "# simple 1:levels axysd\n",
    "simple_index = np.linspace(1, target_levels, target_levels)"
   ]
  },
  {
   "cell_type": "code",
   "execution_count": 8,
   "metadata": {
    "collapsed": true
   },
   "outputs": [],
   "source": [
    "# find target gaps for each target resistance at v_read\n",
    "for g_idx, g in enumerate(sim_read_r):\n",
    "    for t_idx, r in enumerate(g):\n",
    "        new_r, r_idx = find_nearest_sorted(last_r_read[g_idx, :], r)\n",
    "        sim_read_r[g_idx, t_idx] = new_r\n",
    "        required_loads[g_idx, t_idx] = r_loads[r_idx]"
   ]
  },
  {
   "cell_type": "code",
   "execution_count": 9,
   "metadata": {},
   "outputs": [
    {
     "name": "stdout",
     "output_type": "stream",
     "text": [
      "This is the format of your plot grid:\n",
      "[ (1,1) x1,y1 ]  [ (1,2) x2,y2 ]\n",
      "\n"
     ]
    }
   ],
   "source": [
    "if plot_2d:\n",
    "    fig_r = plotly.tools.make_subplots(rows=1, cols=2)\n",
    "    \n",
    "    for g_idx, g in enumerate(required_loads):\n",
    "        fig_r.append_trace(\n",
    "            plotly.graph_objs.Scatter(\n",
    "                x=simple_index,\n",
    "                y=g,\n",
    "                mode='lines+markers',\n",
    "                name='load_r for initial gap ' + str(initial_gaps[g_idx]),                 \n",
    "                xaxis='x1',\n",
    "                yaxis='y1'\n",
    "            ), 1, 1)\n",
    "        \n",
    "        fig_r.append_trace(\n",
    "            plotly.graph_objs.Scatter(\n",
    "                x=simple_index,\n",
    "                y=sim_read_r[g_idx,:],\n",
    "                mode='lines+markers',\n",
    "                name='read_r for initial gap ' + str(initial_gaps[g_idx]), \n",
    "                xaxis='x2',\n",
    "                yaxis='y2'\n",
    "            ), 1, 2)\n",
    "    \n",
    "    layout_r = plotly.graph_objs.Layout(\n",
    "        title='Load Resistances and simulated Read Resistances for each level',\n",
    "        xaxis1=dict(\n",
    "            title='Level',\n",
    "            titlefont=dict(\n",
    "                family='Courier New, monospace',\n",
    "                size=18,\n",
    "                color='#7f7f7f'\n",
    "            )\n",
    "        ),\n",
    "        xaxis2=dict(\n",
    "            title='Level',\n",
    "            titlefont=dict(\n",
    "                family='Courier New, monospace',\n",
    "                size=18,\n",
    "                color='#7f7f7f'\n",
    "            )\n",
    "        ),\n",
    "        yaxis1=dict(\n",
    "            title='Load Resistance [ohm]',\n",
    "            titlefont=dict(\n",
    "                family='Courier New, monospace',\n",
    "                size=18,\n",
    "                color='#7f7f7f'\n",
    "            )\n",
    "        ),\n",
    "        yaxis2=dict(\n",
    "            title='Read Resistance [ohm]',\n",
    "            titlefont=dict(\n",
    "                family='Courier New, monospace',\n",
    "                size=18,\n",
    "                color='#7f7f7f'\n",
    "            ),\n",
    "#             side='right',\n",
    "#             overlaying='y'\n",
    "        )\n",
    "    )\n",
    "    \n",
    "\n",
    "    fig_r.update( layout=layout_r)\n",
    "    plotly.offline.plot(fig_r, filename = 'load_resistances.html')"
   ]
  },
  {
   "cell_type": "code",
   "execution_count": 16,
   "metadata": {},
   "outputs": [
    {
     "name": "stdout",
     "output_type": "stream",
     "text": [
      "(5, 32)\n"
     ]
    }
   ],
   "source": [
    "# find read values if load resistors are equidistanced\n",
    "eq_distributed_loads = np.zeros(required_loads.shape)\n",
    "for g_idx, g in enumerate(required_loads):\n",
    "    eq_distributed_loads[g_idx] = np.append(\n",
    "        np.linspace(g[0], g[g.shape[0]-2], target_levels-1), g[g.shape[0]-1])\n",
    "\n",
    "# find the simulated read_resistance\n",
    "# if loads are equidistanced (eq_d_)\n",
    "eq_d_read_r = np.zeros(eq_distributed_loads.shape)\n",
    "real_eq_d_loads = np.zeros(eq_distributed_loads.shape)\n",
    "# for g_idx, g in enumerate(last_r_read):\n",
    "#     target_r[g_idx] = np.linspace(np.min(g), np.max(g), target_levels)\n",
    "\n",
    "# read resistance\n",
    "print(required_loads.shape)\n",
    "for g_idx, g in enumerate(eq_distributed_loads):\n",
    "    for t_idx, r in enumerate(g):\n",
    "        new_r, r_idx = find_nearest_sorted(r_loads, r)\n",
    "#         print( 'required: ' + str(r))\n",
    "#         print( 'found: ' + str(new_r))\n",
    "#         print('--------')\n",
    "        real_eq_d_loads[g_idx, t_idx] = new_r\n",
    "        eq_d_read_r[g_idx, t_idx] = last_r_read[g_idx, r_idx]"
   ]
  },
  {
   "cell_type": "code",
   "execution_count": 17,
   "metadata": {},
   "outputs": [
    {
     "name": "stdout",
     "output_type": "stream",
     "text": [
      "This is the format of your plot grid:\n",
      "[ (1,1) x1,y1 ]  [ (1,2) x2,y2 ]\n",
      "\n"
     ]
    }
   ],
   "source": [
    "if plot_2d:\n",
    "    fig_eq_l_r = plotly.tools.make_subplots(rows=1, cols=2)\n",
    "    \n",
    "    for g_idx, g in enumerate(eq_distributed_loads):\n",
    "        fig_eq_l_r.append_trace(\n",
    "            plotly.graph_objs.Scatter(\n",
    "                x=simple_index,\n",
    "                y=g,\n",
    "                mode='lines+markers',\n",
    "                name='load_r for initial gap ' + str(initial_gaps[g_idx]),                 \n",
    "                xaxis='x1',\n",
    "                yaxis='y1'\n",
    "            ), 1, 1)\n",
    "        \n",
    "        fig_eq_l_r.append_trace(\n",
    "            plotly.graph_objs.Scatter(\n",
    "                x=simple_index,\n",
    "                y=eq_d_read_r[g_idx,:],\n",
    "                mode='lines+markers',\n",
    "                name='read_r for initial gap ' + str(initial_gaps[g_idx]), \n",
    "                xaxis='x2',\n",
    "                yaxis='y2'\n",
    "            ), 1, 2)\n",
    "    \n",
    "    layout_eq_l_r = plotly.graph_objs.Layout(\n",
    "        title='Equidistanced Load Resistances and corresponding Read Resistances for each level',\n",
    "        xaxis1=dict(\n",
    "            title='Level',\n",
    "            titlefont=dict(\n",
    "                family='Courier New, monospace',\n",
    "                size=18,\n",
    "                color='#7f7f7f'\n",
    "            )\n",
    "        ),\n",
    "        xaxis2=dict(\n",
    "            title='Level',\n",
    "            titlefont=dict(\n",
    "                family='Courier New, monospace',\n",
    "                size=18,\n",
    "                color='#7f7f7f'\n",
    "            )\n",
    "        ),\n",
    "        yaxis1=dict(\n",
    "            title='Load Resistance [ohm]',\n",
    "            titlefont=dict(\n",
    "                family='Courier New, monospace',\n",
    "                size=18,\n",
    "                color='#7f7f7f'\n",
    "            )\n",
    "        ),\n",
    "        yaxis2=dict(\n",
    "            title='Read Resistance [ohm]',\n",
    "            titlefont=dict(\n",
    "                family='Courier New, monospace',\n",
    "                size=18,\n",
    "                color='#7f7f7f'\n",
    "            ),\n",
    "#             side='right',\n",
    "#             overlaying='y'\n",
    "        )\n",
    "    )\n",
    "    \n",
    "\n",
    "    fig_eq_l_r.update( layout=layout_eq_l_r)\n",
    "    plotly.offline.plot(fig_eq_l_r, filename = 'equidistanced_load_resistances.html')"
   ]
  },
  {
   "cell_type": "code",
   "execution_count": null,
   "metadata": {
    "collapsed": true
   },
   "outputs": [],
   "source": []
  }
 ],
 "metadata": {
  "kernelspec": {
   "display_name": "Python [default]",
   "language": "python",
   "name": "python3"
  },
  "language_info": {
   "codemirror_mode": {
    "name": "ipython",
    "version": 3
   },
   "file_extension": ".py",
   "mimetype": "text/x-python",
   "name": "python",
   "nbconvert_exporter": "python",
   "pygments_lexer": "ipython3",
   "version": "3.5.4"
  }
 },
 "nbformat": 4,
 "nbformat_minor": 2
}
