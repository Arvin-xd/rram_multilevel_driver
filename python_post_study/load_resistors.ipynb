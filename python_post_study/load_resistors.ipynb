{
 "cells": [
  {
   "cell_type": "code",
   "execution_count": 1,
   "metadata": {
    "collapsed": true
   },
   "outputs": [],
   "source": [
    "# import plotly.plotly as py\n",
    "import plotly.offline\n",
    "from plotly.graph_objs import Scatter, Layout\n",
    "import numpy as np\n",
    "import pandas as pd"
   ]
  },
  {
   "cell_type": "code",
   "execution_count": 2,
   "metadata": {
    "collapsed": true
   },
   "outputs": [],
   "source": [
    "def find_nearest(array, value):\n",
    "    idx = (np.abs(array-value)).argmin()\n",
    "    return array[idx]\n",
    "\n",
    "\n",
    "def find_nearest_sorted(sorted_array, value):\n",
    "    idx = np.searchsorted(sorted_array, value, side=\"left\")\n",
    "    if (idx > 0 and (\n",
    "        idx == len(sorted_array)\n",
    "        or abs(value - sorted_array[idx-1]) < abs(value-sorted_array[idx]))):\n",
    "        return sorted_array[idx-1], idx-1\n",
    "    else:\n",
    "        return sorted_array[idx], idx"
   ]
  },
  {
   "cell_type": "code",
   "execution_count": 18,
   "metadata": {},
   "outputs": [],
   "source": [
    "# target resistances\n",
    "levels = 512\n",
    "rs_min = 1e3\n",
    "r_loads = np.linspace(rs_min, levels*rs_min, levels)\n",
    "r_index = np.linspace(1, levels, levels)"
   ]
  },
  {
   "cell_type": "code",
   "execution_count": 4,
   "metadata": {
    "collapsed": true
   },
   "outputs": [],
   "source": [
    "# plotly.tools.set_credentials_file(username='fmu', api_key='NIDiVLcNRVtwNzBnfpLJ')\n",
    "plotly.tools.set_config_file(world_readable=False,\n",
    "                             sharing='private')\n",
    "# plotly.tools.set_config_file(world_readable=True,\n",
    "#                            sharing='public')"
   ]
  },
  {
   "cell_type": "code",
   "execution_count": 27,
   "metadata": {},
   "outputs": [
    {
     "name": "stdout",
     "output_type": "stream",
     "text": [
      "(1, 512)\n"
     ]
    }
   ],
   "source": [
    "full_data = np.genfromtxt('exported_data/test2.csv', delimiter=',')\n",
    "last_r_read = np.array([full_data[full_data.shape[0]-1, 1::2]])\n",
    "print(last_r_read.shape)\n"
   ]
  },
  {
   "cell_type": "code",
   "execution_count": 32,
   "metadata": {},
   "outputs": [],
   "source": [
    "plot_2d = True\n",
    "if plot_2d:\n",
    "    data_r0 = [\n",
    "        plotly.graph_objs.Scatter(\n",
    "            x=r_index,\n",
    "            y=last_r_read[0,:],\n",
    "            mode='lines+markers',\n",
    "            name='r_read_resistance'\n",
    "        )\n",
    "    ]\n",
    "    \n",
    "    layout_r0 = plotly.graph_objs.Layout(\n",
    "        title='Read Resistances vs Load Resistances',\n",
    "        xaxis=dict(\n",
    "            title='Load Resistance [ohm]',\n",
    "            titlefont=dict(\n",
    "                family='Courier New, monospace',\n",
    "                size=18,\n",
    "                color='#7f7f7f'\n",
    "            )\n",
    "        ),\n",
    "        yaxis=dict(\n",
    "            title='Read Resistance [ohm]',\n",
    "            titlefont=dict(\n",
    "                family='Courier New, monospace',\n",
    "                size=18,\n",
    "                color='#7f7f7f'\n",
    "            )\n",
    "        )\n",
    "    )\n",
    "    fig_r0 = plotly.graph_objs.Figure(data=data_r0, layout=layout_r0)\n",
    "    plotly.offline.plot(fig_r0, filename = 'read_resistance.html')"
   ]
  },
  {
   "cell_type": "code",
   "execution_count": null,
   "metadata": {
    "collapsed": true
   },
   "outputs": [],
   "source": []
  }
 ],
 "metadata": {
  "kernelspec": {
   "display_name": "Python [default]",
   "language": "python",
   "name": "python3"
  },
  "language_info": {
   "codemirror_mode": {
    "name": "ipython",
    "version": 3
   },
   "file_extension": ".py",
   "mimetype": "text/x-python",
   "name": "python",
   "nbconvert_exporter": "python",
   "pygments_lexer": "ipython3",
   "version": "3.5.4"
  }
 },
 "nbformat": 4,
 "nbformat_minor": 2
}
