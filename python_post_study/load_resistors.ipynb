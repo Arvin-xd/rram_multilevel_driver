{
 "cells": [
  {
   "cell_type": "code",
   "execution_count": 1,
   "metadata": {
    "collapsed": true
   },
   "outputs": [],
   "source": [
    "# import plotly.plotly as py\n",
    "import plotly.offline\n",
    "from plotly.graph_objs import Scatter, Layout\n",
    "import numpy as np\n",
    "import pandas as pd"
   ]
  },
  {
   "cell_type": "code",
   "execution_count": 2,
   "metadata": {
    "collapsed": true
   },
   "outputs": [],
   "source": [
    "def find_nearest(array, value):\n",
    "    idx = (np.abs(array-value)).argmin()\n",
    "    return array[idx]\n",
    "\n",
    "\n",
    "def find_nearest_sorted(sorted_array, value):\n",
    "    idx = np.searchsorted(sorted_array, value, side=\"left\")\n",
    "    if (idx > 0 and (\n",
    "        idx == len(sorted_array)\n",
    "        or abs(value - sorted_array[idx-1]) < abs(value-sorted_array[idx]))):\n",
    "        return sorted_array[idx-1], idx-1\n",
    "    else:\n",
    "        return sorted_array[idx], idx"
   ]
  },
  {
   "cell_type": "code",
   "execution_count": 20,
   "metadata": {
    "collapsed": true
   },
   "outputs": [],
   "source": [
    "# target resistances\n",
    "initial_gaps = np.array( [1.367e-9, 1.5e-9, 1.6e-9, 1.7e-9])\n",
    "n_gaps = initial_gaps.shape[0]\n",
    "levels = 1024\n",
    "target_levels = 32\n",
    "rs_min = 1e3\n",
    "r_loads = np.linspace(rs_min, levels*rs_min, levels)\n",
    "r_index = np.linspace(1, levels, levels)\n",
    "simple_index = np.linspace(1, levels)"
   ]
  },
  {
   "cell_type": "code",
   "execution_count": 21,
   "metadata": {
    "collapsed": true
   },
   "outputs": [],
   "source": [
    "# plotly.tools.set_credentials_file(username='fmu', api_key='NIDiVLcNRVtwNzBnfpLJ')\n",
    "plotly.tools.set_config_file(world_readable=False,\n",
    "                             sharing='private')\n",
    "# plotly.tools.set_config_file(world_readable=True,\n",
    "#                            sharing='public')"
   ]
  },
  {
   "cell_type": "code",
   "execution_count": 22,
   "metadata": {},
   "outputs": [
    {
     "name": "stdout",
     "output_type": "stream",
     "text": [
      "(4, 256)\n"
     ]
    }
   ],
   "source": [
    "full_data = np.genfromtxt('exported_data/1r_last_r_read.csv', delimiter=',')\n",
    "# data in X0 Y0, X1, Y1 format, grab all Y values\n",
    "last_r_read = np.array([full_data[full_data.shape[0]-1, 1::2]])\n",
    "r_length = int(last_r_read.shape[1]/n_gaps)\n",
    "last_r_read = last_r_read.reshape(n_gaps, r_length)\n",
    "print(last_r_read.shape)\n"
   ]
  },
  {
   "cell_type": "code",
   "execution_count": 23,
   "metadata": {},
   "outputs": [
    {
     "name": "stdout",
     "output_type": "stream",
     "text": [
      "4\n"
     ]
    }
   ],
   "source": [
    "plot_2d = True\n",
    "if plot_2d:\n",
    "    data_r = []\n",
    "    for g in last_r_read:\n",
    "        data_r.append(\n",
    "            plotly.graph_objs.Scatter(\n",
    "                x=r_index,\n",
    "                y=g,\n",
    "                mode='lines+markers',\n",
    "                name='r_read_resistance'\n",
    "            )\n",
    "        )\n",
    "    print(len(data_r))\n",
    "    layout_r0 = plotly.graph_objs.Layout(\n",
    "        title='Read Resistances vs Load Resistances',\n",
    "        xaxis=dict(\n",
    "            title='Load Resistance [ohm]',\n",
    "            titlefont=dict(\n",
    "                family='Courier New, monospace',\n",
    "                size=18,\n",
    "                color='#7f7f7f'\n",
    "            )\n",
    "        ),\n",
    "        yaxis=dict(\n",
    "            title='Read Resistance [ohm]',\n",
    "            titlefont=dict(\n",
    "                family='Courier New, monospace',\n",
    "                size=18,\n",
    "                color='#7f7f7f'\n",
    "            )\n",
    "        )\n",
    "    )\n",
    "    fig_r0 = plotly.graph_objs.Figure(data=data_r, layout=layout_r0)\n",
    "    plotly.offline.plot(fig_r0, filename = 'read_resistance.html')"
   ]
  },
  {
   "cell_type": "code",
   "execution_count": 38,
   "metadata": {},
   "outputs": [],
   "source": [
    "target_r = np.zeros([n_gaps, target_levels])\n",
    "for g_idx, g in enumerate(last_r_read):\n",
    "    target_r[g_idx] = np.linspace(np.min(g), np.max(g), target_levels)\n",
    "r_loads = np.zeros(target_r.shape)\n",
    "# find target gaps for each target resistance at v_read\n",
    "for g_idx, g in enumerate(target_r):\n",
    "    for t_idx, r in enumerate(g):\n",
    "        new_r, r_idx = find_nearest_sorted(g, r)\n",
    "        target_r[g_idx, t_idx] = new_r\n",
    "        r_loads[g_idx, t_idx] = r_index[r_idx]"
   ]
  },
  {
   "cell_type": "code",
   "execution_count": 39,
   "metadata": {},
   "outputs": [
    {
     "name": "stdout",
     "output_type": "stream",
     "text": [
      "2\n"
     ]
    }
   ],
   "source": [
    "if plot_2d:\n",
    "    data_r = [\n",
    "        plotly.graph_objs.Scatter(\n",
    "                x=simple_index,\n",
    "                y=r_loads[0,:],\n",
    "                mode='lines+markers',\n",
    "                name='load_resistance'\n",
    "        ),\n",
    "        plotly.graph_objs.Scatter(\n",
    "            x=simple_index,\n",
    "            y=target_r[0,:],\n",
    "            mode='lines+markers',\n",
    "            name='load_resistance',            \n",
    "            yaxis='y2'\n",
    "        )\n",
    "    ]\n",
    "    print(len(data_r))\n",
    "    layout_r0 = plotly.graph_objs.Layout(\n",
    "        title='Read Resistances vs Load Resistances',\n",
    "        xaxis=dict(\n",
    "            title='Level',\n",
    "            titlefont=dict(\n",
    "                family='Courier New, monospace',\n",
    "                size=18,\n",
    "                color='#7f7f7f'\n",
    "            )\n",
    "        ),\n",
    "        yaxis=dict(\n",
    "            title='Load Resistance [ohm]',\n",
    "            titlefont=dict(\n",
    "                family='Courier New, monospace',\n",
    "                size=18,\n",
    "                color='#7f7f7f'\n",
    "            )\n",
    "        ),\n",
    "        yaxis2=dict(\n",
    "            title='Read Resistance [ohm]',\n",
    "            titlefont=dict(\n",
    "                family='Courier New, monospace',\n",
    "                size=18,\n",
    "                color='#7f7f7f'\n",
    "            ),\n",
    "            overlaying='y',\n",
    "            side='right'\n",
    "        )\n",
    "    )\n",
    "    \n",
    "    fig_r0 = plotly.graph_objs.Figure(data=data_r, layout=layout_r0)\n",
    "    plotly.offline.plot(fig_r0, filename = 'load_resistances.html')"
   ]
  },
  {
   "cell_type": "code",
   "execution_count": null,
   "metadata": {
    "collapsed": true
   },
   "outputs": [],
   "source": []
  }
 ],
 "metadata": {
  "kernelspec": {
   "display_name": "Python [default]",
   "language": "python",
   "name": "python3"
  },
  "language_info": {
   "codemirror_mode": {
    "name": "ipython",
    "version": 3
   },
   "file_extension": ".py",
   "mimetype": "text/x-python",
   "name": "python",
   "nbconvert_exporter": "python",
   "pygments_lexer": "ipython3",
   "version": "3.5.4"
  }
 },
 "nbformat": 4,
 "nbformat_minor": 2
}
